{
 "cells": [
  {
   "cell_type": "code",
   "execution_count": 1,
   "metadata": {},
   "outputs": [],
   "source": [
    "import numpy as np\n",
    "import pandas as pd\n",
    "import matplotlib.pyplot as plt\n",
    "import seaborn as sns"
   ]
  },
  {
   "cell_type": "code",
   "execution_count": 2,
   "metadata": {},
   "outputs": [],
   "source": [
    "ventas = pd.read_csv('ventas_limpio.csv')\n",
    "empleados = pd.read_csv('empleados_limpio.csv')"
   ]
  },
  {
   "cell_type": "code",
   "execution_count": 3,
   "metadata": {},
   "outputs": [],
   "source": [
    "# Unir los DataFrames ventas y empleados en uno solo basado en la columna 'Empleado' de ventas y 'Id_Empleado' de empleados\n",
    "ventas_full = pd.merge(ventas, empleados, left_on='Empleado', right_on='Id_Empleado', how='left')"
   ]
  },
  {
   "cell_type": "code",
   "execution_count": 4,
   "metadata": {},
   "outputs": [
    {
     "data": {
      "text/plain": [
       "IdCliente            object\n",
       "NombreCliente        object\n",
       "Fecha                object\n",
       "Empleado              int64\n",
       "Referencia           object\n",
       "Productos            object\n",
       "CodigoFamilia         int64\n",
       "Familia              object\n",
       "Cantidad              int64\n",
       "Ventas                int64\n",
       "Localidad            object\n",
       "Sede                 object\n",
       "Area                  int64\n",
       "Year                  int64\n",
       "Id_Empleado           int64\n",
       "Nombre y Apellido    object\n",
       "dtype: object"
      ]
     },
     "execution_count": 4,
     "metadata": {},
     "output_type": "execute_result"
    }
   ],
   "source": [
    "ventas_full.dtypes"
   ]
  },
  {
   "cell_type": "code",
   "execution_count": 5,
   "metadata": {},
   "outputs": [
    {
     "data": {
      "text/html": [
       "<div>\n",
       "<style scoped>\n",
       "    .dataframe tbody tr th:only-of-type {\n",
       "        vertical-align: middle;\n",
       "    }\n",
       "\n",
       "    .dataframe tbody tr th {\n",
       "        vertical-align: top;\n",
       "    }\n",
       "\n",
       "    .dataframe thead th {\n",
       "        text-align: right;\n",
       "    }\n",
       "</style>\n",
       "<table border=\"1\" class=\"dataframe\">\n",
       "  <thead>\n",
       "    <tr style=\"text-align: right;\">\n",
       "      <th></th>\n",
       "      <th>IdCliente</th>\n",
       "      <th>NombreCliente</th>\n",
       "      <th>Fecha</th>\n",
       "      <th>Empleado</th>\n",
       "      <th>Referencia</th>\n",
       "      <th>Productos</th>\n",
       "      <th>CodigoFamilia</th>\n",
       "      <th>Familia</th>\n",
       "      <th>Cantidad</th>\n",
       "      <th>Ventas</th>\n",
       "      <th>Localidad</th>\n",
       "      <th>Sede</th>\n",
       "      <th>Area</th>\n",
       "      <th>Year</th>\n",
       "      <th>Id_Empleado</th>\n",
       "      <th>Nombre y Apellido</th>\n",
       "    </tr>\n",
       "  </thead>\n",
       "  <tbody>\n",
       "    <tr>\n",
       "      <th>0</th>\n",
       "      <td>C1070956433</td>\n",
       "      <td>PINTO JOHN</td>\n",
       "      <td>2016-09-01</td>\n",
       "      <td>24</td>\n",
       "      <td>LL-2R-0038</td>\n",
       "      <td>PILOT STREET 110/80-17</td>\n",
       "      <td>101</td>\n",
       "      <td>LLANTA</td>\n",
       "      <td>1</td>\n",
       "      <td>129310</td>\n",
       "      <td>Puente aranda</td>\n",
       "      <td>Calle 13</td>\n",
       "      <td>35</td>\n",
       "      <td>2016</td>\n",
       "      <td>24</td>\n",
       "      <td>Tello German</td>\n",
       "    </tr>\n",
       "    <tr>\n",
       "      <th>1</th>\n",
       "      <td>C1032372566</td>\n",
       "      <td>CESAR CRUZ</td>\n",
       "      <td>2016-09-01</td>\n",
       "      <td>14</td>\n",
       "      <td>LL-TCA-0133</td>\n",
       "      <td>TOURING 175/70R13</td>\n",
       "      <td>101</td>\n",
       "      <td>LLANTA</td>\n",
       "      <td>2</td>\n",
       "      <td>181034</td>\n",
       "      <td>Suba</td>\n",
       "      <td>Suba</td>\n",
       "      <td>32</td>\n",
       "      <td>2016</td>\n",
       "      <td>14</td>\n",
       "      <td>Javier Garay</td>\n",
       "    </tr>\n",
       "    <tr>\n",
       "      <th>2</th>\n",
       "      <td>C2865810</td>\n",
       "      <td>PINEDA JAIME</td>\n",
       "      <td>2016-09-01</td>\n",
       "      <td>12</td>\n",
       "      <td>LL-TCA-0019</td>\n",
       "      <td>ENERGY XM2 185/65R14</td>\n",
       "      <td>101</td>\n",
       "      <td>LLANTA</td>\n",
       "      <td>1</td>\n",
       "      <td>193095</td>\n",
       "      <td>Usaquen</td>\n",
       "      <td>Santa ana</td>\n",
       "      <td>33</td>\n",
       "      <td>2016</td>\n",
       "      <td>12</td>\n",
       "      <td>Marcos Luna</td>\n",
       "    </tr>\n",
       "    <tr>\n",
       "      <th>3</th>\n",
       "      <td>C11210285</td>\n",
       "      <td>VILLALBA RODRIGUEZ FABIO</td>\n",
       "      <td>2016-09-01</td>\n",
       "      <td>24</td>\n",
       "      <td>LL-TCA-0009</td>\n",
       "      <td>ENERGY XM2 165/65R13</td>\n",
       "      <td>101</td>\n",
       "      <td>LLANTA</td>\n",
       "      <td>2</td>\n",
       "      <td>262069</td>\n",
       "      <td>Puente aranda</td>\n",
       "      <td>Calle 13</td>\n",
       "      <td>35</td>\n",
       "      <td>2016</td>\n",
       "      <td>24</td>\n",
       "      <td>Tello German</td>\n",
       "    </tr>\n",
       "    <tr>\n",
       "      <th>4</th>\n",
       "      <td>C80755314</td>\n",
       "      <td>MOLINA RONALD</td>\n",
       "      <td>2016-09-01</td>\n",
       "      <td>14</td>\n",
       "      <td>LL-TCA-0132</td>\n",
       "      <td>NO UTILIZAR</td>\n",
       "      <td>101</td>\n",
       "      <td>LLANTA</td>\n",
       "      <td>4</td>\n",
       "      <td>362069</td>\n",
       "      <td>Suba</td>\n",
       "      <td>Suba</td>\n",
       "      <td>32</td>\n",
       "      <td>2016</td>\n",
       "      <td>14</td>\n",
       "      <td>Javier Garay</td>\n",
       "    </tr>\n",
       "  </tbody>\n",
       "</table>\n",
       "</div>"
      ],
      "text/plain": [
       "     IdCliente             NombreCliente       Fecha  Empleado   Referencia  \\\n",
       "0  C1070956433                PINTO JOHN  2016-09-01        24   LL-2R-0038   \n",
       "1  C1032372566                CESAR CRUZ  2016-09-01        14  LL-TCA-0133   \n",
       "2     C2865810              PINEDA JAIME  2016-09-01        12  LL-TCA-0019   \n",
       "3    C11210285  VILLALBA RODRIGUEZ FABIO  2016-09-01        24  LL-TCA-0009   \n",
       "4    C80755314             MOLINA RONALD  2016-09-01        14  LL-TCA-0132   \n",
       "\n",
       "                Productos  CodigoFamilia Familia  Cantidad  Ventas  \\\n",
       "0  PILOT STREET 110/80-17            101  LLANTA         1  129310   \n",
       "1       TOURING 175/70R13            101  LLANTA         2  181034   \n",
       "2    ENERGY XM2 185/65R14            101  LLANTA         1  193095   \n",
       "3    ENERGY XM2 165/65R13            101  LLANTA         2  262069   \n",
       "4             NO UTILIZAR            101  LLANTA         4  362069   \n",
       "\n",
       "       Localidad       Sede  Area  Year  Id_Empleado Nombre y Apellido  \n",
       "0  Puente aranda   Calle 13    35  2016           24      Tello German  \n",
       "1           Suba       Suba    32  2016           14      Javier Garay  \n",
       "2        Usaquen  Santa ana    33  2016           12       Marcos Luna  \n",
       "3  Puente aranda   Calle 13    35  2016           24      Tello German  \n",
       "4           Suba       Suba    32  2016           14      Javier Garay  "
      ]
     },
     "execution_count": 5,
     "metadata": {},
     "output_type": "execute_result"
    }
   ],
   "source": [
    "ventas_full.head()"
   ]
  },
  {
   "cell_type": "code",
   "execution_count": 6,
   "metadata": {},
   "outputs": [
    {
     "data": {
      "text/plain": [
       "Index(['IdCliente', 'NombreCliente', 'Fecha', 'Empleado', 'Referencia',\n",
       "       'Productos', 'CodigoFamilia', 'Familia', 'Cantidad', 'Ventas',\n",
       "       'Localidad', 'Sede', 'Area', 'Year', 'Id_Empleado',\n",
       "       'Nombre y Apellido'],\n",
       "      dtype='object')"
      ]
     },
     "execution_count": 6,
     "metadata": {},
     "output_type": "execute_result"
    }
   ],
   "source": [
    "ventas_full.columns"
   ]
  },
  {
   "cell_type": "code",
   "execution_count": 7,
   "metadata": {},
   "outputs": [
    {
     "data": {
      "text/plain": [
       "array(['2016-09-01', '2016-09-02', '2016-09-03', ..., '2020-03-07',\n",
       "       '2020-03-09', '2020-03-10'], dtype=object)"
      ]
     },
     "execution_count": 7,
     "metadata": {},
     "output_type": "execute_result"
    }
   ],
   "source": [
    "ventas_full['Fecha'].unique()"
   ]
  },
  {
   "cell_type": "code",
   "execution_count": 8,
   "metadata": {},
   "outputs": [
    {
     "name": "stdout",
     "output_type": "stream",
     "text": [
      "datetime64[ns]\n"
     ]
    }
   ],
   "source": [
    "# Convertir la columna 'Fecha' al tipo de dato de fecha de pandas sin hora\n",
    "ventas_full['Fecha'] = pd.to_datetime(ventas_full['Fecha'], format='%Y-%m-%d')\n",
    "ventas_full['Fecha'] = pd.to_datetime(ventas_full['Fecha'].dt.date)\n",
    "\n",
    "# Verificar el dtype de la columna 'Fecha'\n",
    "print(ventas_full['Fecha'].dtype)"
   ]
  },
  {
   "cell_type": "code",
   "execution_count": 9,
   "metadata": {},
   "outputs": [
    {
     "data": {
      "text/plain": [
       "array(['2016-09-01T00:00:00.000000000', '2016-09-02T00:00:00.000000000',\n",
       "       '2016-09-03T00:00:00.000000000', ...,\n",
       "       '2020-03-07T00:00:00.000000000', '2020-03-09T00:00:00.000000000',\n",
       "       '2020-03-10T00:00:00.000000000'], dtype='datetime64[ns]')"
      ]
     },
     "execution_count": 9,
     "metadata": {},
     "output_type": "execute_result"
    }
   ],
   "source": [
    "ventas_full['Fecha'].unique()"
   ]
  },
  {
   "cell_type": "code",
   "execution_count": 63,
   "metadata": {},
   "outputs": [
    {
     "data": {
      "text/plain": [
       "0         2016-09-01\n",
       "1         2016-09-01\n",
       "2         2016-09-01\n",
       "3         2016-09-01\n",
       "4         2016-09-01\n",
       "             ...    \n",
       "108789    2020-03-10\n",
       "108790    2020-03-10\n",
       "108791    2020-03-10\n",
       "108792    2020-03-10\n",
       "108793    2020-03-10\n",
       "Name: Fecha, Length: 108794, dtype: object"
      ]
     },
     "execution_count": 63,
     "metadata": {},
     "output_type": "execute_result"
    }
   ],
   "source": [
    "ventas_full['Fecha'] = ventas_full['Fecha'].dt.date"
   ]
  },
  {
   "cell_type": "code",
   "execution_count": 52,
   "metadata": {},
   "outputs": [
    {
     "data": {
      "text/plain": [
       "dtype('O')"
      ]
     },
     "execution_count": 52,
     "metadata": {},
     "output_type": "execute_result"
    }
   ],
   "source": [
    "ventas_full['Fecha'].dtype"
   ]
  },
  {
   "cell_type": "code",
   "execution_count": 51,
   "metadata": {},
   "outputs": [
    {
     "data": {
      "text/plain": [
       "IdCliente            object\n",
       "NombreCliente        object\n",
       "Fecha                object\n",
       "Empleado              int64\n",
       "Referencia           object\n",
       "Descripcion          object\n",
       "CodigoFamilia         int64\n",
       "Familia              object\n",
       "Cantidad              int64\n",
       "Ventas                int64\n",
       "Localidad            object\n",
       "Sede                 object\n",
       "Area                  int64\n",
       "Id_Empleado           int64\n",
       "Nombre y Apellido    object\n",
       "dtype: object"
      ]
     },
     "execution_count": 51,
     "metadata": {},
     "output_type": "execute_result"
    }
   ],
   "source": [
    "ventas_full.dtypes"
   ]
  },
  {
   "cell_type": "code",
   "execution_count": 9,
   "metadata": {},
   "outputs": [
    {
     "data": {
      "text/plain": [
       "dtype('O')"
      ]
     },
     "execution_count": 9,
     "metadata": {},
     "output_type": "execute_result"
    }
   ],
   "source": [
    "ventas_full.Fecha.dtype"
   ]
  },
  {
   "cell_type": "code",
   "execution_count": 18,
   "metadata": {},
   "outputs": [
    {
     "data": {
      "text/plain": [
       "array([2016, 2017, 2018, 2019, 2020])"
      ]
     },
     "execution_count": 18,
     "metadata": {},
     "output_type": "execute_result"
    }
   ],
   "source": [
    "# Convertir la columna 'Fecha' al tipo de dato de fecha si aún no está en ese formato\n",
    "ventas_full['Fecha'] = pd.to_datetime(ventas_full['Fecha'])\n",
    "ventas_full['Fecha'].dt.year.unique()"
   ]
  },
  {
   "cell_type": "code",
   "execution_count": 79,
   "metadata": {},
   "outputs": [
    {
     "name": "stdout",
     "output_type": "stream",
     "text": [
      "Número de meses registrados en 2020: 3\n"
     ]
    }
   ],
   "source": [
    "# Filtrar las ventas del año 2020\n",
    "ventas_2020 = ventas_full[ventas_full['Fecha'].dt.year == 2020]\n",
    "\n",
    "# Obtener los meses registrados en el año 2020\n",
    "meses_2020 = ventas_2020['Fecha'].dt.month.unique()\n",
    "\n",
    "# Contar el número de meses registrados en el año 2020\n",
    "num_meses_2020 = len(meses_2020)\n",
    "\n",
    "# Imprimir el resultado\n",
    "print(\"Número de meses registrados en 2020:\", num_meses_2020)"
   ]
  },
  {
   "cell_type": "code",
   "execution_count": 81,
   "metadata": {},
   "outputs": [
    {
     "data": {
      "text/plain": [
       "array([1, 2, 3])"
      ]
     },
     "execution_count": 81,
     "metadata": {},
     "output_type": "execute_result"
    }
   ],
   "source": [
    "meses_2020"
   ]
  },
  {
   "cell_type": "code",
   "execution_count": 82,
   "metadata": {},
   "outputs": [
    {
     "data": {
      "text/plain": [
       "Index(['IdCliente', 'NombreCliente', 'Fecha', 'Empleado', 'Referencia',\n",
       "       'Descripcion', 'CodigoFamilia', 'Familia', 'Cantidad', 'Ventas',\n",
       "       'Localidad', 'Sede', 'Area', 'Id_Empleado', 'Nombre y Apellido'],\n",
       "      dtype='object')"
      ]
     },
     "execution_count": 82,
     "metadata": {},
     "output_type": "execute_result"
    }
   ],
   "source": [
    "ventas_full.columns"
   ]
  },
  {
   "cell_type": "code",
   "execution_count": 85,
   "metadata": {},
   "outputs": [
    {
     "data": {
      "text/plain": [
       "array(['PILOT STREET 110/80-17', 'TOURING 175/70R13',\n",
       "       'ENERGY XM2 185/65R14', ..., 'REENC  M250 245/70R19.5',\n",
       "       'REENC XDE2 235/75R17.5 PROPIEDAD COMPAÑIA',\n",
       "       'PRIMACY 4 MI 225/55R16 99W'], dtype=object)"
      ]
     },
     "execution_count": 85,
     "metadata": {},
     "output_type": "execute_result"
    }
   ],
   "source": [
    "ventas_full.Descripcion.unique()"
   ]
  },
  {
   "cell_type": "code",
   "execution_count": null,
   "metadata": {},
   "outputs": [],
   "source": []
  }
 ],
 "metadata": {
  "kernelspec": {
   "display_name": "proyectosDataAnalisis",
   "language": "python",
   "name": "python3"
  },
  "language_info": {
   "codemirror_mode": {
    "name": "ipython",
    "version": 3
   },
   "file_extension": ".py",
   "mimetype": "text/x-python",
   "name": "python",
   "nbconvert_exporter": "python",
   "pygments_lexer": "ipython3",
   "version": "3.8.19"
  }
 },
 "nbformat": 4,
 "nbformat_minor": 2
}
