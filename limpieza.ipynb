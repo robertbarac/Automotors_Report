{
 "cells": [
  {
   "cell_type": "markdown",
   "metadata": {},
   "source": [
    "# Limpieza de datos"
   ]
  },
  {
   "cell_type": "markdown",
   "metadata": {},
   "source": [
    "## Importación"
   ]
  },
  {
   "cell_type": "code",
   "execution_count": 1,
   "metadata": {},
   "outputs": [],
   "source": [
    "import pandas as pd"
   ]
  },
  {
   "cell_type": "markdown",
   "metadata": {},
   "source": [
    "## Lectura"
   ]
  },
  {
   "cell_type": "code",
   "execution_count": 2,
   "metadata": {},
   "outputs": [
    {
     "name": "stderr",
     "output_type": "stream",
     "text": [
      "/home/robertbarac/miniconda3/envs/proyectosDataAnalisis/lib/python3.8/site-packages/IPython/core/interactiveshell.py:3508: DtypeWarning: Columns (0,1,2,4,5,7,8,9,10,11) have mixed types.Specify dtype option on import or set low_memory=False.\n",
      "  exec(code_obj, self.user_global_ns, self.user_ns)\n"
     ]
    }
   ],
   "source": [
    "ventas = pd.read_csv('Ventas.csv', delimiter=\";\")\n",
    "empleados = pd.read_csv('Empleados.csv', delimiter=\";\")"
   ]
  },
  {
   "cell_type": "markdown",
   "metadata": {},
   "source": [
    "## EDA"
   ]
  },
  {
   "cell_type": "markdown",
   "metadata": {},
   "source": [
    "### Filas totalmente nulas"
   ]
  },
  {
   "cell_type": "markdown",
   "metadata": {},
   "source": [
    "Se consultaron las filas totalmente nulas, es decir, Nan en todas sus columnas, y borrarlas."
   ]
  },
  {
   "cell_type": "code",
   "execution_count": 3,
   "metadata": {},
   "outputs": [
    {
     "data": {
      "text/html": [
       "<div>\n",
       "<style scoped>\n",
       "    .dataframe tbody tr th:only-of-type {\n",
       "        vertical-align: middle;\n",
       "    }\n",
       "\n",
       "    .dataframe tbody tr th {\n",
       "        vertical-align: top;\n",
       "    }\n",
       "\n",
       "    .dataframe thead th {\n",
       "        text-align: right;\n",
       "    }\n",
       "</style>\n",
       "<table border=\"1\" class=\"dataframe\">\n",
       "  <thead>\n",
       "    <tr style=\"text-align: right;\">\n",
       "      <th></th>\n",
       "      <th>IdCliente</th>\n",
       "      <th>NombreCliente</th>\n",
       "      <th>Fecha</th>\n",
       "      <th>Empleado</th>\n",
       "      <th>Referencia</th>\n",
       "      <th>Descripcion</th>\n",
       "      <th>CodigoFamilia</th>\n",
       "      <th>Familia</th>\n",
       "      <th>Cantidad</th>\n",
       "      <th>Ventas</th>\n",
       "      <th>Localidad</th>\n",
       "      <th>Sede</th>\n",
       "      <th>Area</th>\n",
       "    </tr>\n",
       "  </thead>\n",
       "  <tbody>\n",
       "    <tr>\n",
       "      <th>1048570</th>\n",
       "      <td>NaN</td>\n",
       "      <td>NaN</td>\n",
       "      <td>NaN</td>\n",
       "      <td>NaN</td>\n",
       "      <td>NaN</td>\n",
       "      <td>NaN</td>\n",
       "      <td>NaN</td>\n",
       "      <td>NaN</td>\n",
       "      <td>NaN</td>\n",
       "      <td>NaN</td>\n",
       "      <td>NaN</td>\n",
       "      <td>NaN</td>\n",
       "      <td>NaN</td>\n",
       "    </tr>\n",
       "    <tr>\n",
       "      <th>1048571</th>\n",
       "      <td>NaN</td>\n",
       "      <td>NaN</td>\n",
       "      <td>NaN</td>\n",
       "      <td>NaN</td>\n",
       "      <td>NaN</td>\n",
       "      <td>NaN</td>\n",
       "      <td>NaN</td>\n",
       "      <td>NaN</td>\n",
       "      <td>NaN</td>\n",
       "      <td>NaN</td>\n",
       "      <td>NaN</td>\n",
       "      <td>NaN</td>\n",
       "      <td>NaN</td>\n",
       "    </tr>\n",
       "    <tr>\n",
       "      <th>1048572</th>\n",
       "      <td>NaN</td>\n",
       "      <td>NaN</td>\n",
       "      <td>NaN</td>\n",
       "      <td>NaN</td>\n",
       "      <td>NaN</td>\n",
       "      <td>NaN</td>\n",
       "      <td>NaN</td>\n",
       "      <td>NaN</td>\n",
       "      <td>NaN</td>\n",
       "      <td>NaN</td>\n",
       "      <td>NaN</td>\n",
       "      <td>NaN</td>\n",
       "      <td>NaN</td>\n",
       "    </tr>\n",
       "    <tr>\n",
       "      <th>1048573</th>\n",
       "      <td>NaN</td>\n",
       "      <td>NaN</td>\n",
       "      <td>NaN</td>\n",
       "      <td>NaN</td>\n",
       "      <td>NaN</td>\n",
       "      <td>NaN</td>\n",
       "      <td>NaN</td>\n",
       "      <td>NaN</td>\n",
       "      <td>NaN</td>\n",
       "      <td>NaN</td>\n",
       "      <td>NaN</td>\n",
       "      <td>NaN</td>\n",
       "      <td>NaN</td>\n",
       "    </tr>\n",
       "    <tr>\n",
       "      <th>1048574</th>\n",
       "      <td>NaN</td>\n",
       "      <td>NaN</td>\n",
       "      <td>NaN</td>\n",
       "      <td>NaN</td>\n",
       "      <td>NaN</td>\n",
       "      <td>NaN</td>\n",
       "      <td>NaN</td>\n",
       "      <td>NaN</td>\n",
       "      <td>NaN</td>\n",
       "      <td>NaN</td>\n",
       "      <td>NaN</td>\n",
       "      <td>NaN</td>\n",
       "      <td>NaN</td>\n",
       "    </tr>\n",
       "  </tbody>\n",
       "</table>\n",
       "</div>"
      ],
      "text/plain": [
       "        IdCliente NombreCliente Fecha  Empleado Referencia Descripcion  \\\n",
       "1048570       NaN           NaN   NaN       NaN        NaN         NaN   \n",
       "1048571       NaN           NaN   NaN       NaN        NaN         NaN   \n",
       "1048572       NaN           NaN   NaN       NaN        NaN         NaN   \n",
       "1048573       NaN           NaN   NaN       NaN        NaN         NaN   \n",
       "1048574       NaN           NaN   NaN       NaN        NaN         NaN   \n",
       "\n",
       "         CodigoFamilia Familia Cantidad Ventas Localidad Sede  Area  \n",
       "1048570            NaN     NaN      NaN    NaN       NaN  NaN   NaN  \n",
       "1048571            NaN     NaN      NaN    NaN       NaN  NaN   NaN  \n",
       "1048572            NaN     NaN      NaN    NaN       NaN  NaN   NaN  \n",
       "1048573            NaN     NaN      NaN    NaN       NaN  NaN   NaN  \n",
       "1048574            NaN     NaN      NaN    NaN       NaN  NaN   NaN  "
      ]
     },
     "execution_count": 3,
     "metadata": {},
     "output_type": "execute_result"
    }
   ],
   "source": [
    "ventas.tail()"
   ]
  },
  {
   "cell_type": "code",
   "execution_count": 4,
   "metadata": {},
   "outputs": [],
   "source": [
    "# Eliminar todas las filas después del índice dado\n",
    "ventas.drop(ventas.index[127255:], inplace=True)"
   ]
  },
  {
   "cell_type": "code",
   "execution_count": 5,
   "metadata": {},
   "outputs": [
    {
     "data": {
      "text/html": [
       "<div>\n",
       "<style scoped>\n",
       "    .dataframe tbody tr th:only-of-type {\n",
       "        vertical-align: middle;\n",
       "    }\n",
       "\n",
       "    .dataframe tbody tr th {\n",
       "        vertical-align: top;\n",
       "    }\n",
       "\n",
       "    .dataframe thead th {\n",
       "        text-align: right;\n",
       "    }\n",
       "</style>\n",
       "<table border=\"1\" class=\"dataframe\">\n",
       "  <thead>\n",
       "    <tr style=\"text-align: right;\">\n",
       "      <th></th>\n",
       "      <th>IdCliente</th>\n",
       "      <th>NombreCliente</th>\n",
       "      <th>Fecha</th>\n",
       "      <th>Empleado</th>\n",
       "      <th>Referencia</th>\n",
       "      <th>Descripcion</th>\n",
       "      <th>CodigoFamilia</th>\n",
       "      <th>Familia</th>\n",
       "      <th>Cantidad</th>\n",
       "      <th>Ventas</th>\n",
       "      <th>Localidad</th>\n",
       "      <th>Sede</th>\n",
       "      <th>Area</th>\n",
       "    </tr>\n",
       "  </thead>\n",
       "  <tbody>\n",
       "    <tr>\n",
       "      <th>127250</th>\n",
       "      <td>C891100881</td>\n",
       "      <td>MORENO VARGAS SOCIEDAD ANONIMA</td>\n",
       "      <td>10/3/2020</td>\n",
       "      <td>2.0</td>\n",
       "      <td>LL-PLC-0159</td>\n",
       "      <td>X WORKS HD XDY 12R22.5</td>\n",
       "      <td>101.0</td>\n",
       "      <td>LLANTA</td>\n",
       "      <td>4</td>\n",
       "      <td>5635766</td>\n",
       "      <td>Engativa</td>\n",
       "      <td>Ventas externas</td>\n",
       "      <td>22.0</td>\n",
       "    </tr>\n",
       "    <tr>\n",
       "      <th>127251</th>\n",
       "      <td>C900364615</td>\n",
       "      <td>ORGANIZACION SUMA SAS</td>\n",
       "      <td>10/3/2020</td>\n",
       "      <td>1.0</td>\n",
       "      <td>LL-PLB-0024</td>\n",
       "      <td>X MULTI Z 235/75R17.5</td>\n",
       "      <td>101.0</td>\n",
       "      <td>LLANTA</td>\n",
       "      <td>9</td>\n",
       "      <td>6894000</td>\n",
       "      <td>Engativa</td>\n",
       "      <td>Ventas externas</td>\n",
       "      <td>22.0</td>\n",
       "    </tr>\n",
       "    <tr>\n",
       "      <th>127252</th>\n",
       "      <td>C900365651</td>\n",
       "      <td>EMPRESA DE TRANSPORTE INTEGRADO DE BOGOTA ETIB...</td>\n",
       "      <td>10/3/2020</td>\n",
       "      <td>2.0</td>\n",
       "      <td>LL-PLB-0024</td>\n",
       "      <td>X MULTI Z 235/75R17.5</td>\n",
       "      <td>101.0</td>\n",
       "      <td>LLANTA</td>\n",
       "      <td>20</td>\n",
       "      <td>11955636</td>\n",
       "      <td>Engativa</td>\n",
       "      <td>Ventas externas</td>\n",
       "      <td>22.0</td>\n",
       "    </tr>\n",
       "    <tr>\n",
       "      <th>127253</th>\n",
       "      <td>C900365651</td>\n",
       "      <td>EMPRESA DE TRANSPORTE INTEGRADO DE BOGOTA ETIB...</td>\n",
       "      <td>10/3/2020</td>\n",
       "      <td>2.0</td>\n",
       "      <td>LL-PLB-0031</td>\n",
       "      <td>XZE2 215/75 R17.5</td>\n",
       "      <td>101.0</td>\n",
       "      <td>LLANTA</td>\n",
       "      <td>30</td>\n",
       "      <td>15908063</td>\n",
       "      <td>Engativa</td>\n",
       "      <td>Ventas externas</td>\n",
       "      <td>22.0</td>\n",
       "    </tr>\n",
       "    <tr>\n",
       "      <th>127254</th>\n",
       "      <td>C900364615</td>\n",
       "      <td>ORGANIZACION SUMA SAS</td>\n",
       "      <td>10/3/2020</td>\n",
       "      <td>1.0</td>\n",
       "      <td>LL-PLC-0074</td>\n",
       "      <td>X MULTI Z 295/80R22.5</td>\n",
       "      <td>101.0</td>\n",
       "      <td>LLANTA</td>\n",
       "      <td>14</td>\n",
       "      <td>21868000</td>\n",
       "      <td>Engativa</td>\n",
       "      <td>Ventas externas</td>\n",
       "      <td>22.0</td>\n",
       "    </tr>\n",
       "  </tbody>\n",
       "</table>\n",
       "</div>"
      ],
      "text/plain": [
       "         IdCliente                                      NombreCliente  \\\n",
       "127250  C891100881                     MORENO VARGAS SOCIEDAD ANONIMA   \n",
       "127251  C900364615                              ORGANIZACION SUMA SAS   \n",
       "127252  C900365651  EMPRESA DE TRANSPORTE INTEGRADO DE BOGOTA ETIB...   \n",
       "127253  C900365651  EMPRESA DE TRANSPORTE INTEGRADO DE BOGOTA ETIB...   \n",
       "127254  C900364615                              ORGANIZACION SUMA SAS   \n",
       "\n",
       "            Fecha  Empleado   Referencia             Descripcion  \\\n",
       "127250  10/3/2020       2.0  LL-PLC-0159  X WORKS HD XDY 12R22.5   \n",
       "127251  10/3/2020       1.0  LL-PLB-0024   X MULTI Z 235/75R17.5   \n",
       "127252  10/3/2020       2.0  LL-PLB-0024   X MULTI Z 235/75R17.5   \n",
       "127253  10/3/2020       2.0  LL-PLB-0031       XZE2 215/75 R17.5   \n",
       "127254  10/3/2020       1.0  LL-PLC-0074   X MULTI Z 295/80R22.5   \n",
       "\n",
       "        CodigoFamilia Familia Cantidad    Ventas Localidad             Sede  \\\n",
       "127250          101.0  LLANTA        4   5635766  Engativa  Ventas externas   \n",
       "127251          101.0  LLANTA        9   6894000  Engativa  Ventas externas   \n",
       "127252          101.0  LLANTA       20  11955636  Engativa  Ventas externas   \n",
       "127253          101.0  LLANTA       30  15908063  Engativa  Ventas externas   \n",
       "127254          101.0  LLANTA       14  21868000  Engativa  Ventas externas   \n",
       "\n",
       "        Area  \n",
       "127250  22.0  \n",
       "127251  22.0  \n",
       "127252  22.0  \n",
       "127253  22.0  \n",
       "127254  22.0  "
      ]
     },
     "execution_count": 5,
     "metadata": {},
     "output_type": "execute_result"
    }
   ],
   "source": [
    "ventas.tail()"
   ]
  },
  {
   "cell_type": "code",
   "execution_count": 6,
   "metadata": {},
   "outputs": [
    {
     "data": {
      "text/html": [
       "<div>\n",
       "<style scoped>\n",
       "    .dataframe tbody tr th:only-of-type {\n",
       "        vertical-align: middle;\n",
       "    }\n",
       "\n",
       "    .dataframe tbody tr th {\n",
       "        vertical-align: top;\n",
       "    }\n",
       "\n",
       "    .dataframe thead th {\n",
       "        text-align: right;\n",
       "    }\n",
       "</style>\n",
       "<table border=\"1\" class=\"dataframe\">\n",
       "  <thead>\n",
       "    <tr style=\"text-align: right;\">\n",
       "      <th></th>\n",
       "      <th>Id_Empleado</th>\n",
       "      <th>Nombre y Apellido</th>\n",
       "    </tr>\n",
       "  </thead>\n",
       "  <tbody>\n",
       "    <tr>\n",
       "      <th>0</th>\n",
       "      <td>1</td>\n",
       "      <td>Juan Pastran</td>\n",
       "    </tr>\n",
       "    <tr>\n",
       "      <th>1</th>\n",
       "      <td>2</td>\n",
       "      <td>Esteban Damico</td>\n",
       "    </tr>\n",
       "    <tr>\n",
       "      <th>2</th>\n",
       "      <td>3</td>\n",
       "      <td>Julian Quevedo</td>\n",
       "    </tr>\n",
       "    <tr>\n",
       "      <th>3</th>\n",
       "      <td>4</td>\n",
       "      <td>Oscar Rosseto</td>\n",
       "    </tr>\n",
       "    <tr>\n",
       "      <th>4</th>\n",
       "      <td>5</td>\n",
       "      <td>Valentin Quintero</td>\n",
       "    </tr>\n",
       "  </tbody>\n",
       "</table>\n",
       "</div>"
      ],
      "text/plain": [
       "   Id_Empleado  Nombre y Apellido\n",
       "0            1       Juan Pastran\n",
       "1            2     Esteban Damico\n",
       "2            3     Julian Quevedo\n",
       "3            4      Oscar Rosseto\n",
       "4            5  Valentin Quintero"
      ]
     },
     "execution_count": 6,
     "metadata": {},
     "output_type": "execute_result"
    }
   ],
   "source": [
    "empleados.head()"
   ]
  },
  {
   "cell_type": "markdown",
   "metadata": {},
   "source": [
    "### Datos nulos"
   ]
  },
  {
   "cell_type": "code",
   "execution_count": 7,
   "metadata": {},
   "outputs": [
    {
     "data": {
      "text/plain": [
       "0"
      ]
     },
     "execution_count": 7,
     "metadata": {},
     "output_type": "execute_result"
    }
   ],
   "source": [
    "ventas.isnull().sum().sum()"
   ]
  },
  {
   "cell_type": "markdown",
   "metadata": {},
   "source": [
    "### Registros duplicados"
   ]
  },
  {
   "cell_type": "code",
   "execution_count": 8,
   "metadata": {},
   "outputs": [
    {
     "data": {
      "text/plain": [
       "18461"
      ]
     },
     "execution_count": 8,
     "metadata": {},
     "output_type": "execute_result"
    }
   ],
   "source": [
    "ventas.duplicated().sum()"
   ]
  },
  {
   "cell_type": "code",
   "execution_count": 9,
   "metadata": {},
   "outputs": [
    {
     "data": {
      "text/plain": [
       "(127255, 13)"
      ]
     },
     "execution_count": 9,
     "metadata": {},
     "output_type": "execute_result"
    }
   ],
   "source": [
    "ventas.shape"
   ]
  },
  {
   "cell_type": "markdown",
   "metadata": {},
   "source": [
    "### Eliminar duplicados"
   ]
  },
  {
   "cell_type": "code",
   "execution_count": 10,
   "metadata": {},
   "outputs": [],
   "source": [
    "ventas.drop_duplicates(inplace=True)"
   ]
  },
  {
   "cell_type": "markdown",
   "metadata": {},
   "source": [
    "### Conversión de tipos de datos"
   ]
  },
  {
   "cell_type": "code",
   "execution_count": 11,
   "metadata": {},
   "outputs": [],
   "source": [
    "ventas['Empleado'] = ventas['Empleado'].astype(int)\n",
    "ventas['Area'] = ventas['Area'].astype(int)\n",
    "# Identificar y corregir el valor '1,006' en la columna 'Cantidad'\n",
    "ventas.loc[ventas['Cantidad'] == '1,006', 'Cantidad'] = '1006'\n",
    "\n",
    "# Identificar y corregir el valor '1,068' en la columna 'Cantidad'\n",
    "ventas.loc[ventas['Cantidad'] == '1,068', 'Cantidad'] = '1068'\n",
    "\n",
    "# Convertir la columna 'Cantidad' al tipo de dato entero (int64)\n",
    "ventas['Cantidad'] = ventas['Cantidad'].astype(int)\n",
    "\n",
    "ventas['CodigoFamilia'] = ventas['CodigoFamilia'].astype(int)\n",
    "\n",
    "# Convertir la columna 'Fecha' al tipo de dato de fecha\n",
    "ventas['Fecha'] = pd.to_datetime(ventas['Fecha'], format='%d/%m/%Y')\n",
    "\n",
    "# Añadir columna Año\n",
    "ventas['Year'] = ventas['Fecha'].dt.year\n",
    "\n",
    "# Cambiar valores inadecuados de ventas\n",
    "ventas.loc[ventas['Ventas'] == '70.000.001,00', 'Ventas'] = '70000001'\n",
    "ventas.loc[ventas['Ventas'] == '74.511.448,00', 'Ventas'] = '74511448'\n",
    "ventas.loc[ventas['Ventas'] == '74.158.398,00', 'Ventas'] = '74158398'\n",
    "ventas.loc[ventas['Ventas'] == '65.321.270,00', 'Ventas'] = '65321270'\n",
    "\n",
    "# convertir ventas a entero\n",
    "ventas['Ventas'] = ventas['Ventas'].astype('int64')\n",
    "\n",
    "# Cambiar el nombre de la columna 'Descripcion' a 'Productos'\n",
    "ventas.rename(columns={'Descripcion': 'Productos'}, inplace=True)\n"
   ]
  },
  {
   "cell_type": "markdown",
   "metadata": {},
   "source": [
    "## Merge de dataframes"
   ]
  },
  {
   "cell_type": "code",
   "execution_count": 12,
   "metadata": {},
   "outputs": [],
   "source": [
    "# Unir los DataFrames ventas y empleados en uno solo basado en la columna 'Empleado' de ventas y 'Id_Empleado' de empleados\n",
    "ventas_full = pd.merge(ventas, empleados, left_on='Empleado', right_on='Id_Empleado', how='left')"
   ]
  },
  {
   "cell_type": "code",
   "execution_count": 13,
   "metadata": {},
   "outputs": [],
   "source": [
    "# Eliminar la columna 'Empleado'\n",
    "ventas_full.drop(columns='Empleado', inplace=True)\n",
    "\n",
    "# Renombrar la columna 'Nombre y Apellido' a 'NombreCompleto'\n",
    "ventas_full.rename(columns={'Nombre y Apellido': 'NombreCompleto'}, inplace=True)"
   ]
  },
  {
   "cell_type": "markdown",
   "metadata": {},
   "source": [
    "## Guardado de datos limpios"
   ]
  },
  {
   "cell_type": "code",
   "execution_count": 14,
   "metadata": {},
   "outputs": [],
   "source": [
    "# Guardar el DataFrame ventas en un archivo CSV sin incluir el índice\n",
    "ventas.to_csv('ventas_limpio.csv', index=False)\n",
    "\n",
    "# Guardar el DataFrame empleados en un archivo CSV sin incluir el índice\n",
    "empleados.to_csv('empleados_limpio.csv', index=False)\n",
    "\n",
    "ventas_full.to_csv('ventas_full.csv', index=False)"
   ]
  },
  {
   "cell_type": "code",
   "execution_count": 15,
   "metadata": {},
   "outputs": [
    {
     "data": {
      "text/plain": [
       "IdCliente                 object\n",
       "NombreCliente             object\n",
       "Fecha             datetime64[ns]\n",
       "Referencia                object\n",
       "Productos                 object\n",
       "CodigoFamilia              int64\n",
       "Familia                   object\n",
       "Cantidad                   int64\n",
       "Ventas                     int64\n",
       "Localidad                 object\n",
       "Sede                      object\n",
       "Area                       int64\n",
       "Year                       int64\n",
       "Id_Empleado                int64\n",
       "NombreCompleto            object\n",
       "dtype: object"
      ]
     },
     "execution_count": 15,
     "metadata": {},
     "output_type": "execute_result"
    }
   ],
   "source": [
    "ventas_full.dtypes"
   ]
  },
  {
   "cell_type": "code",
   "execution_count": null,
   "metadata": {},
   "outputs": [],
   "source": []
  }
 ],
 "metadata": {
  "kernelspec": {
   "display_name": "ml-zoomcamp",
   "language": "python",
   "name": "python3"
  },
  "language_info": {
   "codemirror_mode": {
    "name": "ipython",
    "version": 3
   },
   "file_extension": ".py",
   "mimetype": "text/x-python",
   "name": "python",
   "nbconvert_exporter": "python",
   "pygments_lexer": "ipython3",
   "version": "3.8.19"
  }
 },
 "nbformat": 4,
 "nbformat_minor": 2
}
